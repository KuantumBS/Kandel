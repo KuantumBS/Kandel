{
 "cells": [
  {
   "cell_type": "code",
   "execution_count": 1,
   "metadata": {},
   "outputs": [],
   "source": [
    "from IPython.display import Image\n",
    "from sre_parse import State\n",
    "from main.Circuit import Circuit\n",
    "from main.building_blocks.Qubit import Qubit\n",
    "from main.codes.RotatedSurfaceCode import RotatedSurfaceCode\n",
    "from main.QPUs.SquareLatticeQPU import SquareLatticeQPU\n",
    "from main.enums import State\n",
    "from main. Compiler import Compiler\n",
    "from main.building_blocks.Pauli import Pauli, PauliX, PauliY, PauliZ\n",
    "import stim\n",
    "from main.printing.Printer2D import Printer2D\n"
   ]
  },
  {
   "cell_type": "markdown",
   "metadata": {},
   "source": [
    "### Create a QPU\n"
   ]
  },
  {
   "cell_type": "code",
   "execution_count": 2,
   "metadata": {},
   "outputs": [
    {
     "data": {
      "text/html": [
       "<img src=\"../output/20_20_qpu_round_0.jpg\"/>"
      ],
      "text/plain": [
       "<IPython.core.display.Image object>"
      ]
     },
     "execution_count": 2,
     "metadata": {},
     "output_type": "execute_result"
    }
   ],
   "source": [
    "test_qpu = SquareLatticeQPU((20, 20))\n",
    "printer = Printer2D(scale_factor=50)\n",
    "printer.print_qpu(test_qpu, '20_20_qpu')\n",
    "Image(url=\"../output/20_20_qpu_round_0.jpg\")  # , width=400, height=400)\n"
   ]
  },
  {
   "cell_type": "markdown",
   "metadata": {},
   "source": [
    "### Place error correction code on QPU"
   ]
  },
  {
   "cell_type": "code",
   "execution_count": 3,
   "metadata": {},
   "outputs": [
    {
     "data": {
      "text/html": [
       "<img src=\"../output/small_2_rep_code_d72_qpu_round_0.jpg\"/>"
      ],
      "text/plain": [
       "<IPython.core.display.Image object>"
      ]
     },
     "execution_count": 3,
     "metadata": {},
     "output_type": "execute_result"
    }
   ],
   "source": [
    "d7_surface_code = RotatedSurfaceCode(5)\n",
    "test_qpu.embed(d7_surface_code, (0, 0), (0,1))\n",
    "printer = Printer2D(scale_factor=50)\n",
    "printer.print_qpu(test_qpu, 'small_2_rep_code_d72_qpu')\n",
    "Image(url= \"../output/small_2_rep_code_d72_qpu_round_0.jpg\")#, width=400, height=400)"
   ]
  },
  {
   "cell_type": "code",
   "execution_count": null,
   "metadata": {},
   "outputs": [],
   "source": []
  },
  {
   "cell_type": "code",
   "execution_count": null,
   "metadata": {},
   "outputs": [],
   "source": []
  }
 ],
 "metadata": {
  "interpreter": {
   "hash": "3bfe578c87f9e87a1aba4f9877784a22ddfc8c8f026e1929e65df748f8538267"
  },
  "kernelspec": {
   "display_name": "Python 3.10.2 64-bit ('FTQPU_env': conda)",
   "name": "python3"
  },
  "language_info": {
   "codemirror_mode": {
    "name": "ipython",
    "version": 3
   },
   "file_extension": ".py",
   "mimetype": "text/x-python",
   "name": "python",
   "nbconvert_exporter": "python",
   "pygments_lexer": "ipython3",
   "version": "3.10.2"
  },
  "orig_nbformat": 4
 },
 "nbformat": 4,
 "nbformat_minor": 2
}
