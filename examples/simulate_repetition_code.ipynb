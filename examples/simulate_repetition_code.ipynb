{
 "cells": [
  {
   "cell_type": "code",
   "execution_count": 1,
   "metadata": {},
   "outputs": [],
   "source": [
    "from sre_parse import State\n",
    "from main.Circuit import Circuit\n",
    "from main.building_blocks.Qubit import Qubit\n",
    "from main.codes.RepetitionCode import RepetitionCode\n",
    "from main.QPUs.SquareLatticeQPU import SquareLatticeQPU\n",
    "from main.enums import State\n",
    "from main. Compiler import Compiler\n",
    "from main.building_blocks.Pauli import Pauli, PauliX, PauliY, PauliZ\n",
    "import stim\n",
    "from main.printing.Printer2D import Printer2D\n",
    "from IPython.display import Image\n"
   ]
  },
  {
   "cell_type": "markdown",
   "metadata": {},
   "source": [
    "### Create a QPU"
   ]
  },
  {
   "cell_type": "code",
   "execution_count": 3,
   "metadata": {},
   "outputs": [
    {
     "data": {
      "text/html": [
       "<img src=\"../output/small_18_qpu_round_0.jpg\"/>"
      ],
      "text/plain": [
       "<IPython.core.display.Image object>"
      ]
     },
     "execution_count": 3,
     "metadata": {},
     "output_type": "execute_result"
    }
   ],
   "source": [
    "from IPython.display import Image\n",
    "test_qpu = SquareLatticeQPU((7, 3))\n",
    "printer = Printer2D(scale_factor=50)\n",
    "printer.print_qpu(test_qpu, 'small_18_qpu')\n",
    "Image(url= \"../output/small_18_qpu_round_0.jpg\")#, width=400, height=400)\n"
   ]
  },
  {
   "cell_type": "markdown",
   "metadata": {},
   "source": [
    "### Place error correction code on QPU"
   ]
  },
  {
   "cell_type": "code",
   "execution_count": 4,
   "metadata": {},
   "outputs": [
    {
     "name": "stdout",
     "output_type": "stream",
     "text": [
      "{0: position=0, state=|0>, 2: position=2, state=|0>, 4: position=4, state=|0>, 6: position=6, state=|0>}\n",
      "{1: position=1, state=|0>, 3: position=3, state=|0>, 5: position=5, state=|0>}\n"
     ]
    },
    {
     "data": {
      "text/html": [
       "<img src=\"../output/small_18_rep_code_d4_qpu_round_0.jpg\"/>"
      ],
      "text/plain": [
       "<IPython.core.display.Image object>"
      ]
     },
     "execution_count": 4,
     "metadata": {},
     "output_type": "execute_result"
    }
   ],
   "source": [
    "rep_code = RepetitionCode(4)\n",
    "print(rep_code.data_qubits)\n",
    "print(rep_code.ancilla_qubits)\n",
    "test_qpu.embed(rep_code, (0, 0), 0)\n",
    "printer = Printer2D(scale_factor=50)\n",
    "printer.print_qpu(test_qpu, 'small_18_rep_code_d4_qpu')\n",
    "Image(url= \"../output/small_18_rep_code_d4_qpu_round_0.jpg\")#, width=400, height=400)"
   ]
  },
  {
   "cell_type": "markdown",
   "metadata": {},
   "source": [
    "### Compile the repetition code to stim"
   ]
  },
  {
   "cell_type": "code",
   "execution_count": 5,
   "metadata": {},
   "outputs": [
    {
     "name": "stdout",
     "output_type": "stream",
     "text": [
      "R 0 1 2 3 4 5 6\n",
      "TICK\n",
      "CX 0 4 1 5 2 6\n",
      "TICK\n",
      "CX 1 4 2 5 3 6\n",
      "TICK\n",
      "MR 4\n",
      "DETECTOR rec[-1]\n",
      "MR 5\n",
      "DETECTOR rec[-1]\n",
      "MR 6\n",
      "DETECTOR rec[-1]\n",
      "TICK\n",
      "R 4 5 6\n",
      "TICK\n",
      "CX 0 4 1 5 2 6\n",
      "TICK\n",
      "CX 1 4 2 5 3 6\n",
      "TICK\n",
      "MR 4\n",
      "DETECTOR rec[-1] rec[-4]\n",
      "MR 5\n",
      "DETECTOR rec[-1] rec[-4]\n",
      "MR 6\n",
      "DETECTOR rec[-1] rec[-4]\n",
      "TICK\n",
      "R 4 5 6\n",
      "TICK\n",
      "CX 0 4 1 5 2 6\n",
      "TICK\n",
      "CX 1 4 2 5 3 6\n",
      "TICK\n",
      "MR 4\n",
      "DETECTOR rec[-1] rec[-4]\n",
      "MR 5\n",
      "DETECTOR rec[-1] rec[-4]\n",
      "MR 6\n",
      "DETECTOR rec[-1] rec[-4]\n",
      "MR 0 1\n",
      "DETECTOR rec[-1] rec[-2] rec[-5]\n",
      "MR 2\n",
      "DETECTOR rec[-1] rec[-2] rec[-5]\n",
      "MR 3\n",
      "DETECTOR rec[-1] rec[-2] rec[-5]\n",
      "OBSERVABLE_INCLUDE(0) rec[-4]\n",
      "TICK\n"
     ]
    }
   ],
   "source": [
    "test_compiler = Compiler()\n",
    "\n",
    "test_compiler.compile_code(\n",
    "    rep_code, n_code_rounds=3, measure_data_qubits=True)\n",
    "circuit = Circuit()\n",
    "circuit.to_stim(test_compiler.gates_at_timesteps)\n",
    "print(circuit.stim_circuit)\n"
   ]
  },
  {
   "cell_type": "markdown",
   "metadata": {},
   "source": [
    "### Simulate the stim circuit"
   ]
  },
  {
   "cell_type": "code",
   "execution_count": 6,
   "metadata": {},
   "outputs": [
    {
     "name": "stdout",
     "output_type": "stream",
     "text": [
      "stim.DetectorErrorModel('''\n",
      "    detector D0\n",
      "    detector D1\n",
      "    detector D2\n",
      "    detector D3\n",
      "    detector D4\n",
      "    detector D5\n",
      "    detector D6\n",
      "    detector D7\n",
      "    detector D8\n",
      "    detector D9\n",
      "    detector D10\n",
      "    detector D11\n",
      "    logical_observable L0\n",
      "''')\n",
      "[[0 0 0 0 0 0 0 0 0 0 0 0]\n",
      " [0 0 0 0 0 0 0 0 0 0 0 0]\n",
      " [0 0 0 0 0 0 0 0 0 0 0 0]\n",
      " [0 0 0 0 0 0 0 0 0 0 0 0]\n",
      " [0 0 0 0 0 0 0 0 0 0 0 0]\n",
      " [0 0 0 0 0 0 0 0 0 0 0 0]\n",
      " [0 0 0 0 0 0 0 0 0 0 0 0]\n",
      " [0 0 0 0 0 0 0 0 0 0 0 0]\n",
      " [0 0 0 0 0 0 0 0 0 0 0 0]\n",
      " [0 0 0 0 0 0 0 0 0 0 0 0]]\n"
     ]
    }
   ],
   "source": [
    "print(repr(circuit.stim_circuit.detector_error_model()))\n",
    "\n",
    "\n",
    "\n",
    "sampler = circuit.stim_circuit.compile_detector_sampler()\n",
    "print(sampler.sample(shots=10))\n",
    "\n",
    "\n"
   ]
  },
  {
   "cell_type": "code",
   "execution_count": null,
   "metadata": {},
   "outputs": [],
   "source": []
  }
 ],
 "metadata": {
  "interpreter": {
   "hash": "3bfe578c87f9e87a1aba4f9877784a22ddfc8c8f026e1929e65df748f8538267"
  },
  "jupytext": {
   "formats": "ipynb,py"
  },
  "kernelspec": {
   "display_name": "Python 3.10.2 64-bit ('FTQPU_env': conda)",
   "name": "python3"
  },
  "language_info": {
   "codemirror_mode": {
    "name": "ipython",
    "version": 3
   },
   "file_extension": ".py",
   "mimetype": "text/x-python",
   "name": "python",
   "nbconvert_exporter": "python",
   "pygments_lexer": "ipython3",
   "version": "3.10.2"
  }
 },
 "nbformat": 4,
 "nbformat_minor": 2
}
